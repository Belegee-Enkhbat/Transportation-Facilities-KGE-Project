{
 "cells": [
  {
   "cell_type": "code",
   "execution_count": null,
   "id": "c3ca49cb",
   "metadata": {},
   "outputs": [],
   "source": [
    "import pandas as pd\n",
    "\n",
    "# Assuming your data is stored in a CSV file named \"data.csv\"\n",
    "data = pd.read_csv(\"data.csv\")\n",
    "\n",
    "# Drop the \"public_transport\" column\n",
    "data.drop(columns=[\"public_transport\"], inplace=True)\n",
    "\n",
    "# Save the modified data to a new CSV file\n",
    "data.to_csv(\"modified_data.csv\", index=False)\n"
   ]
  }
 ],
 "metadata": {
  "kernelspec": {
   "display_name": "Python 3 (ipykernel)",
   "language": "python",
   "name": "python3"
  },
  "language_info": {
   "codemirror_mode": {
    "name": "ipython",
    "version": 3
   },
   "file_extension": ".py",
   "mimetype": "text/x-python",
   "name": "python",
   "nbconvert_exporter": "python",
   "pygments_lexer": "ipython3",
   "version": "3.11.5"
  }
 },
 "nbformat": 4,
 "nbformat_minor": 5
}
